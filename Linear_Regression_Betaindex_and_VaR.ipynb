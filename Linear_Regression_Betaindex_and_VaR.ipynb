{
  "nbformat": 4,
  "nbformat_minor": 0,
  "metadata": {
    "colab": {
      "name": "Linear_Regression_Betaindex_and_VaR",
      "provenance": [],
      "collapsed_sections": []
    },
    "kernelspec": {
      "name": "python3",
      "display_name": "Python 3"
    },
    "language_info": {
      "name": "python"
    }
  },
  "cells": [
    {
      "cell_type": "markdown",
      "source": [
        "# Calculating the Beta index with Linear Regression"
      ],
      "metadata": {
        "id": "4vOEYELHctr8"
      }
    },
    {
      "cell_type": "markdown",
      "source": [
        "* Beta is the measure of how much an stock will move in relation to another stock in this case in relation to the Benchmark. So if an stock has Beta = 1.2 for each 1% that the benchmarck moves this stock will move 1.2%.\n",
        "* Its a measure to calculate the risk/reward of an investment."
      ],
      "metadata": {
        "id": "ZBWdWcLuXZp1"
      }
    },
    {
      "cell_type": "code",
      "execution_count": 2,
      "metadata": {
        "id": "fAsQb-n24Ufi"
      },
      "outputs": [],
      "source": [
        "%%capture\n",
        "!pip install yfinance"
      ]
    },
    {
      "cell_type": "code",
      "source": [
        "#Imports\n",
        "import pandas as pd\n",
        "import numpy as np\n",
        "import matplotlib.pyplot as plt\n",
        "import yfinance as yf\n",
        "from sklearn.linear_model import LinearRegression"
      ],
      "metadata": {
        "id": "cZ__F-WX4tt2"
      },
      "execution_count": 3,
      "outputs": []
    },
    {
      "cell_type": "code",
      "source": [
        "#Extrating the data\n",
        "initial_date = \"2018-01-01\"\n",
        "final_date = \"2022-07-31\"\n",
        "benchmas = \"^BVSP\"\n",
        "df = yf.download(['ELET3.SA','ITUB4.SA', '^BVSP'], start = initial_date, end = final_date)['Adj Close']\n",
        "df"
      ],
      "metadata": {
        "colab": {
          "base_uri": "https://localhost:8080/",
          "height": 473
        },
        "id": "5uy2boc77ubH",
        "outputId": "e542b9e6-a938-47dd-dbce-a6b13628ac96"
      },
      "execution_count": 4,
      "outputs": [
        {
          "output_type": "stream",
          "name": "stdout",
          "text": [
            "[*********************100%***********************]  3 of 3 completed\n"
          ]
        },
        {
          "output_type": "execute_result",
          "data": {
            "text/plain": [
              "             ELET3.SA   ITUB4.SA     ^BVSP\n",
              "Date                                      \n",
              "2018-01-02  14.956762  24.224379   77891.0\n",
              "2018-01-03  14.765722  24.390001   77995.0\n",
              "2018-01-04  14.670203  24.897888   78647.0\n",
              "2018-01-05  14.534884  24.969660   79071.0\n",
              "2018-01-08  14.630403  24.886845   79379.0\n",
              "...               ...        ...       ...\n",
              "2022-07-25  44.849998  23.317312  100270.0\n",
              "2022-07-26  44.650002  23.188868   99772.0\n",
              "2022-07-27  45.369999  23.267910  101438.0\n",
              "2022-07-28  45.450001  23.416115  102597.0\n",
              "2022-07-29  45.810001  23.337072  103165.0\n",
              "\n",
              "[1134 rows x 3 columns]"
            ],
            "text/html": [
              "\n",
              "  <div id=\"df-5700fee4-7fcb-4ac0-9518-3c0620cb47f6\">\n",
              "    <div class=\"colab-df-container\">\n",
              "      <div>\n",
              "<style scoped>\n",
              "    .dataframe tbody tr th:only-of-type {\n",
              "        vertical-align: middle;\n",
              "    }\n",
              "\n",
              "    .dataframe tbody tr th {\n",
              "        vertical-align: top;\n",
              "    }\n",
              "\n",
              "    .dataframe thead th {\n",
              "        text-align: right;\n",
              "    }\n",
              "</style>\n",
              "<table border=\"1\" class=\"dataframe\">\n",
              "  <thead>\n",
              "    <tr style=\"text-align: right;\">\n",
              "      <th></th>\n",
              "      <th>ELET3.SA</th>\n",
              "      <th>ITUB4.SA</th>\n",
              "      <th>^BVSP</th>\n",
              "    </tr>\n",
              "    <tr>\n",
              "      <th>Date</th>\n",
              "      <th></th>\n",
              "      <th></th>\n",
              "      <th></th>\n",
              "    </tr>\n",
              "  </thead>\n",
              "  <tbody>\n",
              "    <tr>\n",
              "      <th>2018-01-02</th>\n",
              "      <td>14.956762</td>\n",
              "      <td>24.224379</td>\n",
              "      <td>77891.0</td>\n",
              "    </tr>\n",
              "    <tr>\n",
              "      <th>2018-01-03</th>\n",
              "      <td>14.765722</td>\n",
              "      <td>24.390001</td>\n",
              "      <td>77995.0</td>\n",
              "    </tr>\n",
              "    <tr>\n",
              "      <th>2018-01-04</th>\n",
              "      <td>14.670203</td>\n",
              "      <td>24.897888</td>\n",
              "      <td>78647.0</td>\n",
              "    </tr>\n",
              "    <tr>\n",
              "      <th>2018-01-05</th>\n",
              "      <td>14.534884</td>\n",
              "      <td>24.969660</td>\n",
              "      <td>79071.0</td>\n",
              "    </tr>\n",
              "    <tr>\n",
              "      <th>2018-01-08</th>\n",
              "      <td>14.630403</td>\n",
              "      <td>24.886845</td>\n",
              "      <td>79379.0</td>\n",
              "    </tr>\n",
              "    <tr>\n",
              "      <th>...</th>\n",
              "      <td>...</td>\n",
              "      <td>...</td>\n",
              "      <td>...</td>\n",
              "    </tr>\n",
              "    <tr>\n",
              "      <th>2022-07-25</th>\n",
              "      <td>44.849998</td>\n",
              "      <td>23.317312</td>\n",
              "      <td>100270.0</td>\n",
              "    </tr>\n",
              "    <tr>\n",
              "      <th>2022-07-26</th>\n",
              "      <td>44.650002</td>\n",
              "      <td>23.188868</td>\n",
              "      <td>99772.0</td>\n",
              "    </tr>\n",
              "    <tr>\n",
              "      <th>2022-07-27</th>\n",
              "      <td>45.369999</td>\n",
              "      <td>23.267910</td>\n",
              "      <td>101438.0</td>\n",
              "    </tr>\n",
              "    <tr>\n",
              "      <th>2022-07-28</th>\n",
              "      <td>45.450001</td>\n",
              "      <td>23.416115</td>\n",
              "      <td>102597.0</td>\n",
              "    </tr>\n",
              "    <tr>\n",
              "      <th>2022-07-29</th>\n",
              "      <td>45.810001</td>\n",
              "      <td>23.337072</td>\n",
              "      <td>103165.0</td>\n",
              "    </tr>\n",
              "  </tbody>\n",
              "</table>\n",
              "<p>1134 rows × 3 columns</p>\n",
              "</div>\n",
              "      <button class=\"colab-df-convert\" onclick=\"convertToInteractive('df-5700fee4-7fcb-4ac0-9518-3c0620cb47f6')\"\n",
              "              title=\"Convert this dataframe to an interactive table.\"\n",
              "              style=\"display:none;\">\n",
              "        \n",
              "  <svg xmlns=\"http://www.w3.org/2000/svg\" height=\"24px\"viewBox=\"0 0 24 24\"\n",
              "       width=\"24px\">\n",
              "    <path d=\"M0 0h24v24H0V0z\" fill=\"none\"/>\n",
              "    <path d=\"M18.56 5.44l.94 2.06.94-2.06 2.06-.94-2.06-.94-.94-2.06-.94 2.06-2.06.94zm-11 1L8.5 8.5l.94-2.06 2.06-.94-2.06-.94L8.5 2.5l-.94 2.06-2.06.94zm10 10l.94 2.06.94-2.06 2.06-.94-2.06-.94-.94-2.06-.94 2.06-2.06.94z\"/><path d=\"M17.41 7.96l-1.37-1.37c-.4-.4-.92-.59-1.43-.59-.52 0-1.04.2-1.43.59L10.3 9.45l-7.72 7.72c-.78.78-.78 2.05 0 2.83L4 21.41c.39.39.9.59 1.41.59.51 0 1.02-.2 1.41-.59l7.78-7.78 2.81-2.81c.8-.78.8-2.07 0-2.86zM5.41 20L4 18.59l7.72-7.72 1.47 1.35L5.41 20z\"/>\n",
              "  </svg>\n",
              "      </button>\n",
              "      \n",
              "  <style>\n",
              "    .colab-df-container {\n",
              "      display:flex;\n",
              "      flex-wrap:wrap;\n",
              "      gap: 12px;\n",
              "    }\n",
              "\n",
              "    .colab-df-convert {\n",
              "      background-color: #E8F0FE;\n",
              "      border: none;\n",
              "      border-radius: 50%;\n",
              "      cursor: pointer;\n",
              "      display: none;\n",
              "      fill: #1967D2;\n",
              "      height: 32px;\n",
              "      padding: 0 0 0 0;\n",
              "      width: 32px;\n",
              "    }\n",
              "\n",
              "    .colab-df-convert:hover {\n",
              "      background-color: #E2EBFA;\n",
              "      box-shadow: 0px 1px 2px rgba(60, 64, 67, 0.3), 0px 1px 3px 1px rgba(60, 64, 67, 0.15);\n",
              "      fill: #174EA6;\n",
              "    }\n",
              "\n",
              "    [theme=dark] .colab-df-convert {\n",
              "      background-color: #3B4455;\n",
              "      fill: #D2E3FC;\n",
              "    }\n",
              "\n",
              "    [theme=dark] .colab-df-convert:hover {\n",
              "      background-color: #434B5C;\n",
              "      box-shadow: 0px 1px 3px 1px rgba(0, 0, 0, 0.15);\n",
              "      filter: drop-shadow(0px 1px 2px rgba(0, 0, 0, 0.3));\n",
              "      fill: #FFFFFF;\n",
              "    }\n",
              "  </style>\n",
              "\n",
              "      <script>\n",
              "        const buttonEl =\n",
              "          document.querySelector('#df-5700fee4-7fcb-4ac0-9518-3c0620cb47f6 button.colab-df-convert');\n",
              "        buttonEl.style.display =\n",
              "          google.colab.kernel.accessAllowed ? 'block' : 'none';\n",
              "\n",
              "        async function convertToInteractive(key) {\n",
              "          const element = document.querySelector('#df-5700fee4-7fcb-4ac0-9518-3c0620cb47f6');\n",
              "          const dataTable =\n",
              "            await google.colab.kernel.invokeFunction('convertToInteractive',\n",
              "                                                     [key], {});\n",
              "          if (!dataTable) return;\n",
              "\n",
              "          const docLinkHtml = 'Like what you see? Visit the ' +\n",
              "            '<a target=\"_blank\" href=https://colab.research.google.com/notebooks/data_table.ipynb>data table notebook</a>'\n",
              "            + ' to learn more about interactive tables.';\n",
              "          element.innerHTML = '';\n",
              "          dataTable['output_type'] = 'display_data';\n",
              "          await google.colab.output.renderOutput(dataTable, element);\n",
              "          const docLink = document.createElement('div');\n",
              "          docLink.innerHTML = docLinkHtml;\n",
              "          element.appendChild(docLink);\n",
              "        }\n",
              "      </script>\n",
              "    </div>\n",
              "  </div>\n",
              "  "
            ]
          },
          "metadata": {},
          "execution_count": 4
        }
      ]
    },
    {
      "cell_type": "code",
      "source": [
        "df.dropna(inplace=True)\n",
        "df"
      ],
      "metadata": {
        "colab": {
          "base_uri": "https://localhost:8080/",
          "height": 455
        },
        "id": "qOrzZf3L8iCf",
        "outputId": "35698027-9bb8-49a7-ea80-1875a65291f0"
      },
      "execution_count": 5,
      "outputs": [
        {
          "output_type": "execute_result",
          "data": {
            "text/plain": [
              "             ELET3.SA   ITUB4.SA     ^BVSP\n",
              "Date                                      \n",
              "2018-01-02  14.956762  24.224379   77891.0\n",
              "2018-01-03  14.765722  24.390001   77995.0\n",
              "2018-01-04  14.670203  24.897888   78647.0\n",
              "2018-01-05  14.534884  24.969660   79071.0\n",
              "2018-01-08  14.630403  24.886845   79379.0\n",
              "...               ...        ...       ...\n",
              "2022-07-25  44.849998  23.317312  100270.0\n",
              "2022-07-26  44.650002  23.188868   99772.0\n",
              "2022-07-27  45.369999  23.267910  101438.0\n",
              "2022-07-28  45.450001  23.416115  102597.0\n",
              "2022-07-29  45.810001  23.337072  103165.0\n",
              "\n",
              "[1133 rows x 3 columns]"
            ],
            "text/html": [
              "\n",
              "  <div id=\"df-01161c86-ac8f-4836-b132-9a71efa706da\">\n",
              "    <div class=\"colab-df-container\">\n",
              "      <div>\n",
              "<style scoped>\n",
              "    .dataframe tbody tr th:only-of-type {\n",
              "        vertical-align: middle;\n",
              "    }\n",
              "\n",
              "    .dataframe tbody tr th {\n",
              "        vertical-align: top;\n",
              "    }\n",
              "\n",
              "    .dataframe thead th {\n",
              "        text-align: right;\n",
              "    }\n",
              "</style>\n",
              "<table border=\"1\" class=\"dataframe\">\n",
              "  <thead>\n",
              "    <tr style=\"text-align: right;\">\n",
              "      <th></th>\n",
              "      <th>ELET3.SA</th>\n",
              "      <th>ITUB4.SA</th>\n",
              "      <th>^BVSP</th>\n",
              "    </tr>\n",
              "    <tr>\n",
              "      <th>Date</th>\n",
              "      <th></th>\n",
              "      <th></th>\n",
              "      <th></th>\n",
              "    </tr>\n",
              "  </thead>\n",
              "  <tbody>\n",
              "    <tr>\n",
              "      <th>2018-01-02</th>\n",
              "      <td>14.956762</td>\n",
              "      <td>24.224379</td>\n",
              "      <td>77891.0</td>\n",
              "    </tr>\n",
              "    <tr>\n",
              "      <th>2018-01-03</th>\n",
              "      <td>14.765722</td>\n",
              "      <td>24.390001</td>\n",
              "      <td>77995.0</td>\n",
              "    </tr>\n",
              "    <tr>\n",
              "      <th>2018-01-04</th>\n",
              "      <td>14.670203</td>\n",
              "      <td>24.897888</td>\n",
              "      <td>78647.0</td>\n",
              "    </tr>\n",
              "    <tr>\n",
              "      <th>2018-01-05</th>\n",
              "      <td>14.534884</td>\n",
              "      <td>24.969660</td>\n",
              "      <td>79071.0</td>\n",
              "    </tr>\n",
              "    <tr>\n",
              "      <th>2018-01-08</th>\n",
              "      <td>14.630403</td>\n",
              "      <td>24.886845</td>\n",
              "      <td>79379.0</td>\n",
              "    </tr>\n",
              "    <tr>\n",
              "      <th>...</th>\n",
              "      <td>...</td>\n",
              "      <td>...</td>\n",
              "      <td>...</td>\n",
              "    </tr>\n",
              "    <tr>\n",
              "      <th>2022-07-25</th>\n",
              "      <td>44.849998</td>\n",
              "      <td>23.317312</td>\n",
              "      <td>100270.0</td>\n",
              "    </tr>\n",
              "    <tr>\n",
              "      <th>2022-07-26</th>\n",
              "      <td>44.650002</td>\n",
              "      <td>23.188868</td>\n",
              "      <td>99772.0</td>\n",
              "    </tr>\n",
              "    <tr>\n",
              "      <th>2022-07-27</th>\n",
              "      <td>45.369999</td>\n",
              "      <td>23.267910</td>\n",
              "      <td>101438.0</td>\n",
              "    </tr>\n",
              "    <tr>\n",
              "      <th>2022-07-28</th>\n",
              "      <td>45.450001</td>\n",
              "      <td>23.416115</td>\n",
              "      <td>102597.0</td>\n",
              "    </tr>\n",
              "    <tr>\n",
              "      <th>2022-07-29</th>\n",
              "      <td>45.810001</td>\n",
              "      <td>23.337072</td>\n",
              "      <td>103165.0</td>\n",
              "    </tr>\n",
              "  </tbody>\n",
              "</table>\n",
              "<p>1133 rows × 3 columns</p>\n",
              "</div>\n",
              "      <button class=\"colab-df-convert\" onclick=\"convertToInteractive('df-01161c86-ac8f-4836-b132-9a71efa706da')\"\n",
              "              title=\"Convert this dataframe to an interactive table.\"\n",
              "              style=\"display:none;\">\n",
              "        \n",
              "  <svg xmlns=\"http://www.w3.org/2000/svg\" height=\"24px\"viewBox=\"0 0 24 24\"\n",
              "       width=\"24px\">\n",
              "    <path d=\"M0 0h24v24H0V0z\" fill=\"none\"/>\n",
              "    <path d=\"M18.56 5.44l.94 2.06.94-2.06 2.06-.94-2.06-.94-.94-2.06-.94 2.06-2.06.94zm-11 1L8.5 8.5l.94-2.06 2.06-.94-2.06-.94L8.5 2.5l-.94 2.06-2.06.94zm10 10l.94 2.06.94-2.06 2.06-.94-2.06-.94-.94-2.06-.94 2.06-2.06.94z\"/><path d=\"M17.41 7.96l-1.37-1.37c-.4-.4-.92-.59-1.43-.59-.52 0-1.04.2-1.43.59L10.3 9.45l-7.72 7.72c-.78.78-.78 2.05 0 2.83L4 21.41c.39.39.9.59 1.41.59.51 0 1.02-.2 1.41-.59l7.78-7.78 2.81-2.81c.8-.78.8-2.07 0-2.86zM5.41 20L4 18.59l7.72-7.72 1.47 1.35L5.41 20z\"/>\n",
              "  </svg>\n",
              "      </button>\n",
              "      \n",
              "  <style>\n",
              "    .colab-df-container {\n",
              "      display:flex;\n",
              "      flex-wrap:wrap;\n",
              "      gap: 12px;\n",
              "    }\n",
              "\n",
              "    .colab-df-convert {\n",
              "      background-color: #E8F0FE;\n",
              "      border: none;\n",
              "      border-radius: 50%;\n",
              "      cursor: pointer;\n",
              "      display: none;\n",
              "      fill: #1967D2;\n",
              "      height: 32px;\n",
              "      padding: 0 0 0 0;\n",
              "      width: 32px;\n",
              "    }\n",
              "\n",
              "    .colab-df-convert:hover {\n",
              "      background-color: #E2EBFA;\n",
              "      box-shadow: 0px 1px 2px rgba(60, 64, 67, 0.3), 0px 1px 3px 1px rgba(60, 64, 67, 0.15);\n",
              "      fill: #174EA6;\n",
              "    }\n",
              "\n",
              "    [theme=dark] .colab-df-convert {\n",
              "      background-color: #3B4455;\n",
              "      fill: #D2E3FC;\n",
              "    }\n",
              "\n",
              "    [theme=dark] .colab-df-convert:hover {\n",
              "      background-color: #434B5C;\n",
              "      box-shadow: 0px 1px 3px 1px rgba(0, 0, 0, 0.15);\n",
              "      filter: drop-shadow(0px 1px 2px rgba(0, 0, 0, 0.3));\n",
              "      fill: #FFFFFF;\n",
              "    }\n",
              "  </style>\n",
              "\n",
              "      <script>\n",
              "        const buttonEl =\n",
              "          document.querySelector('#df-01161c86-ac8f-4836-b132-9a71efa706da button.colab-df-convert');\n",
              "        buttonEl.style.display =\n",
              "          google.colab.kernel.accessAllowed ? 'block' : 'none';\n",
              "\n",
              "        async function convertToInteractive(key) {\n",
              "          const element = document.querySelector('#df-01161c86-ac8f-4836-b132-9a71efa706da');\n",
              "          const dataTable =\n",
              "            await google.colab.kernel.invokeFunction('convertToInteractive',\n",
              "                                                     [key], {});\n",
              "          if (!dataTable) return;\n",
              "\n",
              "          const docLinkHtml = 'Like what you see? Visit the ' +\n",
              "            '<a target=\"_blank\" href=https://colab.research.google.com/notebooks/data_table.ipynb>data table notebook</a>'\n",
              "            + ' to learn more about interactive tables.';\n",
              "          element.innerHTML = '';\n",
              "          dataTable['output_type'] = 'display_data';\n",
              "          await google.colab.output.renderOutput(dataTable, element);\n",
              "          const docLink = document.createElement('div');\n",
              "          docLink.innerHTML = docLinkHtml;\n",
              "          element.appendChild(docLink);\n",
              "        }\n",
              "      </script>\n",
              "    </div>\n",
              "  </div>\n",
              "  "
            ]
          },
          "metadata": {},
          "execution_count": 5
        }
      ]
    },
    {
      "cell_type": "code",
      "source": [
        "#To calcule the Beta we use the percent variation\n",
        "df['%ELET3'] = df['ELET3.SA'].pct_change()\n",
        "df['%ITUB4'] = df['ITUB4.SA'].pct_change()\n",
        "df['%IBOV'] = df['^BVSP'].pct_change()\n",
        "#Dont considerate the row 1 because will be Nan\n",
        "df = df [1:] \n",
        "df"
      ],
      "metadata": {
        "colab": {
          "base_uri": "https://localhost:8080/",
          "height": 455
        },
        "id": "ww5UI1EA85Ow",
        "outputId": "609010a4-ecad-492f-e6d7-980c84141e79"
      },
      "execution_count": 6,
      "outputs": [
        {
          "output_type": "execute_result",
          "data": {
            "text/plain": [
              "             ELET3.SA   ITUB4.SA     ^BVSP    %ELET3    %ITUB4     %IBOV\n",
              "Date                                                                    \n",
              "2018-01-03  14.765722  24.390001   77995.0 -0.012773  0.006837  0.001335\n",
              "2018-01-04  14.670203  24.897888   78647.0 -0.006469  0.020824  0.008360\n",
              "2018-01-05  14.534884  24.969660   79071.0 -0.009224  0.002883  0.005391\n",
              "2018-01-08  14.630403  24.886845   79379.0  0.006572 -0.003317  0.003895\n",
              "2018-01-09  14.049325  24.616339   78864.0 -0.039717 -0.010869 -0.006488\n",
              "...               ...        ...       ...       ...       ...       ...\n",
              "2022-07-25  44.849998  23.317312  100270.0  0.004929  0.014617  0.013596\n",
              "2022-07-26  44.650002  23.188868   99772.0 -0.004459 -0.005509 -0.004967\n",
              "2022-07-27  45.369999  23.267910  101438.0  0.016125  0.003409  0.016698\n",
              "2022-07-28  45.450001  23.416115  102597.0  0.001763  0.006369  0.011426\n",
              "2022-07-29  45.810001  23.337072  103165.0  0.007921 -0.003376  0.005536\n",
              "\n",
              "[1132 rows x 6 columns]"
            ],
            "text/html": [
              "\n",
              "  <div id=\"df-d4a86b1a-bd0a-4e28-a296-5eccc7b52afd\">\n",
              "    <div class=\"colab-df-container\">\n",
              "      <div>\n",
              "<style scoped>\n",
              "    .dataframe tbody tr th:only-of-type {\n",
              "        vertical-align: middle;\n",
              "    }\n",
              "\n",
              "    .dataframe tbody tr th {\n",
              "        vertical-align: top;\n",
              "    }\n",
              "\n",
              "    .dataframe thead th {\n",
              "        text-align: right;\n",
              "    }\n",
              "</style>\n",
              "<table border=\"1\" class=\"dataframe\">\n",
              "  <thead>\n",
              "    <tr style=\"text-align: right;\">\n",
              "      <th></th>\n",
              "      <th>ELET3.SA</th>\n",
              "      <th>ITUB4.SA</th>\n",
              "      <th>^BVSP</th>\n",
              "      <th>%ELET3</th>\n",
              "      <th>%ITUB4</th>\n",
              "      <th>%IBOV</th>\n",
              "    </tr>\n",
              "    <tr>\n",
              "      <th>Date</th>\n",
              "      <th></th>\n",
              "      <th></th>\n",
              "      <th></th>\n",
              "      <th></th>\n",
              "      <th></th>\n",
              "      <th></th>\n",
              "    </tr>\n",
              "  </thead>\n",
              "  <tbody>\n",
              "    <tr>\n",
              "      <th>2018-01-03</th>\n",
              "      <td>14.765722</td>\n",
              "      <td>24.390001</td>\n",
              "      <td>77995.0</td>\n",
              "      <td>-0.012773</td>\n",
              "      <td>0.006837</td>\n",
              "      <td>0.001335</td>\n",
              "    </tr>\n",
              "    <tr>\n",
              "      <th>2018-01-04</th>\n",
              "      <td>14.670203</td>\n",
              "      <td>24.897888</td>\n",
              "      <td>78647.0</td>\n",
              "      <td>-0.006469</td>\n",
              "      <td>0.020824</td>\n",
              "      <td>0.008360</td>\n",
              "    </tr>\n",
              "    <tr>\n",
              "      <th>2018-01-05</th>\n",
              "      <td>14.534884</td>\n",
              "      <td>24.969660</td>\n",
              "      <td>79071.0</td>\n",
              "      <td>-0.009224</td>\n",
              "      <td>0.002883</td>\n",
              "      <td>0.005391</td>\n",
              "    </tr>\n",
              "    <tr>\n",
              "      <th>2018-01-08</th>\n",
              "      <td>14.630403</td>\n",
              "      <td>24.886845</td>\n",
              "      <td>79379.0</td>\n",
              "      <td>0.006572</td>\n",
              "      <td>-0.003317</td>\n",
              "      <td>0.003895</td>\n",
              "    </tr>\n",
              "    <tr>\n",
              "      <th>2018-01-09</th>\n",
              "      <td>14.049325</td>\n",
              "      <td>24.616339</td>\n",
              "      <td>78864.0</td>\n",
              "      <td>-0.039717</td>\n",
              "      <td>-0.010869</td>\n",
              "      <td>-0.006488</td>\n",
              "    </tr>\n",
              "    <tr>\n",
              "      <th>...</th>\n",
              "      <td>...</td>\n",
              "      <td>...</td>\n",
              "      <td>...</td>\n",
              "      <td>...</td>\n",
              "      <td>...</td>\n",
              "      <td>...</td>\n",
              "    </tr>\n",
              "    <tr>\n",
              "      <th>2022-07-25</th>\n",
              "      <td>44.849998</td>\n",
              "      <td>23.317312</td>\n",
              "      <td>100270.0</td>\n",
              "      <td>0.004929</td>\n",
              "      <td>0.014617</td>\n",
              "      <td>0.013596</td>\n",
              "    </tr>\n",
              "    <tr>\n",
              "      <th>2022-07-26</th>\n",
              "      <td>44.650002</td>\n",
              "      <td>23.188868</td>\n",
              "      <td>99772.0</td>\n",
              "      <td>-0.004459</td>\n",
              "      <td>-0.005509</td>\n",
              "      <td>-0.004967</td>\n",
              "    </tr>\n",
              "    <tr>\n",
              "      <th>2022-07-27</th>\n",
              "      <td>45.369999</td>\n",
              "      <td>23.267910</td>\n",
              "      <td>101438.0</td>\n",
              "      <td>0.016125</td>\n",
              "      <td>0.003409</td>\n",
              "      <td>0.016698</td>\n",
              "    </tr>\n",
              "    <tr>\n",
              "      <th>2022-07-28</th>\n",
              "      <td>45.450001</td>\n",
              "      <td>23.416115</td>\n",
              "      <td>102597.0</td>\n",
              "      <td>0.001763</td>\n",
              "      <td>0.006369</td>\n",
              "      <td>0.011426</td>\n",
              "    </tr>\n",
              "    <tr>\n",
              "      <th>2022-07-29</th>\n",
              "      <td>45.810001</td>\n",
              "      <td>23.337072</td>\n",
              "      <td>103165.0</td>\n",
              "      <td>0.007921</td>\n",
              "      <td>-0.003376</td>\n",
              "      <td>0.005536</td>\n",
              "    </tr>\n",
              "  </tbody>\n",
              "</table>\n",
              "<p>1132 rows × 6 columns</p>\n",
              "</div>\n",
              "      <button class=\"colab-df-convert\" onclick=\"convertToInteractive('df-d4a86b1a-bd0a-4e28-a296-5eccc7b52afd')\"\n",
              "              title=\"Convert this dataframe to an interactive table.\"\n",
              "              style=\"display:none;\">\n",
              "        \n",
              "  <svg xmlns=\"http://www.w3.org/2000/svg\" height=\"24px\"viewBox=\"0 0 24 24\"\n",
              "       width=\"24px\">\n",
              "    <path d=\"M0 0h24v24H0V0z\" fill=\"none\"/>\n",
              "    <path d=\"M18.56 5.44l.94 2.06.94-2.06 2.06-.94-2.06-.94-.94-2.06-.94 2.06-2.06.94zm-11 1L8.5 8.5l.94-2.06 2.06-.94-2.06-.94L8.5 2.5l-.94 2.06-2.06.94zm10 10l.94 2.06.94-2.06 2.06-.94-2.06-.94-.94-2.06-.94 2.06-2.06.94z\"/><path d=\"M17.41 7.96l-1.37-1.37c-.4-.4-.92-.59-1.43-.59-.52 0-1.04.2-1.43.59L10.3 9.45l-7.72 7.72c-.78.78-.78 2.05 0 2.83L4 21.41c.39.39.9.59 1.41.59.51 0 1.02-.2 1.41-.59l7.78-7.78 2.81-2.81c.8-.78.8-2.07 0-2.86zM5.41 20L4 18.59l7.72-7.72 1.47 1.35L5.41 20z\"/>\n",
              "  </svg>\n",
              "      </button>\n",
              "      \n",
              "  <style>\n",
              "    .colab-df-container {\n",
              "      display:flex;\n",
              "      flex-wrap:wrap;\n",
              "      gap: 12px;\n",
              "    }\n",
              "\n",
              "    .colab-df-convert {\n",
              "      background-color: #E8F0FE;\n",
              "      border: none;\n",
              "      border-radius: 50%;\n",
              "      cursor: pointer;\n",
              "      display: none;\n",
              "      fill: #1967D2;\n",
              "      height: 32px;\n",
              "      padding: 0 0 0 0;\n",
              "      width: 32px;\n",
              "    }\n",
              "\n",
              "    .colab-df-convert:hover {\n",
              "      background-color: #E2EBFA;\n",
              "      box-shadow: 0px 1px 2px rgba(60, 64, 67, 0.3), 0px 1px 3px 1px rgba(60, 64, 67, 0.15);\n",
              "      fill: #174EA6;\n",
              "    }\n",
              "\n",
              "    [theme=dark] .colab-df-convert {\n",
              "      background-color: #3B4455;\n",
              "      fill: #D2E3FC;\n",
              "    }\n",
              "\n",
              "    [theme=dark] .colab-df-convert:hover {\n",
              "      background-color: #434B5C;\n",
              "      box-shadow: 0px 1px 3px 1px rgba(0, 0, 0, 0.15);\n",
              "      filter: drop-shadow(0px 1px 2px rgba(0, 0, 0, 0.3));\n",
              "      fill: #FFFFFF;\n",
              "    }\n",
              "  </style>\n",
              "\n",
              "      <script>\n",
              "        const buttonEl =\n",
              "          document.querySelector('#df-d4a86b1a-bd0a-4e28-a296-5eccc7b52afd button.colab-df-convert');\n",
              "        buttonEl.style.display =\n",
              "          google.colab.kernel.accessAllowed ? 'block' : 'none';\n",
              "\n",
              "        async function convertToInteractive(key) {\n",
              "          const element = document.querySelector('#df-d4a86b1a-bd0a-4e28-a296-5eccc7b52afd');\n",
              "          const dataTable =\n",
              "            await google.colab.kernel.invokeFunction('convertToInteractive',\n",
              "                                                     [key], {});\n",
              "          if (!dataTable) return;\n",
              "\n",
              "          const docLinkHtml = 'Like what you see? Visit the ' +\n",
              "            '<a target=\"_blank\" href=https://colab.research.google.com/notebooks/data_table.ipynb>data table notebook</a>'\n",
              "            + ' to learn more about interactive tables.';\n",
              "          element.innerHTML = '';\n",
              "          dataTable['output_type'] = 'display_data';\n",
              "          await google.colab.output.renderOutput(dataTable, element);\n",
              "          const docLink = document.createElement('div');\n",
              "          docLink.innerHTML = docLinkHtml;\n",
              "          element.appendChild(docLink);\n",
              "        }\n",
              "      </script>\n",
              "    </div>\n",
              "  </div>\n",
              "  "
            ]
          },
          "metadata": {},
          "execution_count": 6
        }
      ]
    },
    {
      "cell_type": "code",
      "source": [
        "df.isna().sum()"
      ],
      "metadata": {
        "colab": {
          "base_uri": "https://localhost:8080/"
        },
        "id": "bc8zSBKUc5ni",
        "outputId": "6b0ba6fd-ae72-4d03-99a6-bdfa3e63c3c4"
      },
      "execution_count": 7,
      "outputs": [
        {
          "output_type": "execute_result",
          "data": {
            "text/plain": [
              "ELET3.SA    0\n",
              "ITUB4.SA    0\n",
              "^BVSP       0\n",
              "%ELET3      0\n",
              "%ITUB4      0\n",
              "%IBOV       0\n",
              "dtype: int64"
            ]
          },
          "metadata": {},
          "execution_count": 7
        }
      ]
    },
    {
      "cell_type": "code",
      "source": [
        "#X will receive the Benchmark\n",
        "X = df[\"%IBOV\"]"
      ],
      "metadata": {
        "id": "CaUZEckV984X"
      },
      "execution_count": 8,
      "outputs": []
    },
    {
      "cell_type": "code",
      "source": [
        "X"
      ],
      "metadata": {
        "id": "yKV7jGD_AaIG",
        "colab": {
          "base_uri": "https://localhost:8080/"
        },
        "outputId": "e4f66108-5a55-42f4-ef40-4302d37a460a"
      },
      "execution_count": 9,
      "outputs": [
        {
          "output_type": "execute_result",
          "data": {
            "text/plain": [
              "Date\n",
              "2018-01-03    0.001335\n",
              "2018-01-04    0.008360\n",
              "2018-01-05    0.005391\n",
              "2018-01-08    0.003895\n",
              "2018-01-09   -0.006488\n",
              "                ...   \n",
              "2022-07-25    0.013596\n",
              "2022-07-26   -0.004967\n",
              "2022-07-27    0.016698\n",
              "2022-07-28    0.011426\n",
              "2022-07-29    0.005536\n",
              "Name: %IBOV, Length: 1132, dtype: float64"
            ]
          },
          "metadata": {},
          "execution_count": 9
        }
      ]
    },
    {
      "cell_type": "code",
      "source": [
        "#reshape(row, columns) now we will have a matrix that will fit in the sklearn\n",
        "X = df['%IBOV'].values.reshape(-1, 1)\n",
        "X"
      ],
      "metadata": {
        "id": "mvBTLoT_A2Ft",
        "colab": {
          "base_uri": "https://localhost:8080/"
        },
        "outputId": "54fe4fe7-e592-4abf-a44d-34ec86a00c92"
      },
      "execution_count": 10,
      "outputs": [
        {
          "output_type": "execute_result",
          "data": {
            "text/plain": [
              "array([[0.0013352 ],\n",
              "       [0.00835951],\n",
              "       [0.00539118],\n",
              "       ...,\n",
              "       [0.01669807],\n",
              "       [0.0114257 ],\n",
              "       [0.00553622]])"
            ]
          },
          "metadata": {},
          "execution_count": 10
        }
      ]
    },
    {
      "cell_type": "code",
      "source": [
        "#Same processor for the Stock\n",
        "Y_elet = df['%ELET3'].values.reshape(-1, 1)\n",
        "Y_elet"
      ],
      "metadata": {
        "id": "ERhD4oGtByLH",
        "colab": {
          "base_uri": "https://localhost:8080/"
        },
        "outputId": "9ea01877-4b10-42d8-8d7e-6e05b2fe99b1"
      },
      "execution_count": 11,
      "outputs": [
        {
          "output_type": "execute_result",
          "data": {
            "text/plain": [
              "array([[-0.01277282],\n",
              "       [-0.00646897],\n",
              "       [-0.00922405],\n",
              "       ...,\n",
              "       [ 0.01612536],\n",
              "       [ 0.00176332],\n",
              "       [ 0.00792081]])"
            ]
          },
          "metadata": {},
          "execution_count": 11
        }
      ]
    },
    {
      "cell_type": "code",
      "source": [
        "Y_itub = df['%ITUB4'].values.reshape(-1,1)\n",
        "Y_itub"
      ],
      "metadata": {
        "colab": {
          "base_uri": "https://localhost:8080/"
        },
        "id": "aQ5OQkuMYBjF",
        "outputId": "15558ba9-2672-41e7-90f1-aad835222c71"
      },
      "execution_count": 12,
      "outputs": [
        {
          "output_type": "execute_result",
          "data": {
            "text/plain": [
              "array([[ 0.00683703],\n",
              "       [ 0.02082357],\n",
              "       [ 0.00288264],\n",
              "       ...,\n",
              "       [ 0.00340864],\n",
              "       [ 0.00636949],\n",
              "       [-0.00337556]])"
            ]
          },
          "metadata": {},
          "execution_count": 12
        }
      ]
    },
    {
      "cell_type": "code",
      "source": [
        "# Find best line\n",
        "linear_regressor_elet = LinearRegression()"
      ],
      "metadata": {
        "id": "5TyEh8hIWTrn"
      },
      "execution_count": 13,
      "outputs": []
    },
    {
      "cell_type": "code",
      "source": [
        "reg_elet = linear_regressor_elet.fit(X, Y_elet)\n",
        "# Predict Y values from line found\n",
        "Y_pred_elet = linear_regressor_elet.predict(X)"
      ],
      "metadata": {
        "id": "i5HgweTcWWb5"
      },
      "execution_count": 14,
      "outputs": []
    },
    {
      "cell_type": "code",
      "source": [
        "# Plot scatter along with regression\n",
        "plt.figure(figsize=(10,5))\n",
        "plt.scatter(X, Y_elet, s=5, color = 'DarkSlateGrey')\n",
        "plt.plot( X, Y_pred_elet, color='DarkBlue')\n",
        "plt.title(\"Linear Regression\")\n",
        "plt.xlabel(\"IBOV\")\n",
        "plt.ylabel(\"ELET3\")\n",
        "plt.show()"
      ],
      "metadata": {
        "colab": {
          "base_uri": "https://localhost:8080/",
          "height": 350
        },
        "id": "aAxMR_NkDZAe",
        "outputId": "ed8350d5-1937-4bf3-ce40-d0653d5ae2f7"
      },
      "execution_count": 15,
      "outputs": [
        {
          "output_type": "display_data",
          "data": {
            "text/plain": [
              "<Figure size 720x360 with 1 Axes>"
            ],
            "image/png": "[encoded data removed]"
          },
          "metadata": {
            "needs_background": "light"
          }
        }
      ]
    },
    {
      "cell_type": "code",
      "source": [
        "linear_regressor_itub = LinearRegression()\n",
        "reg_itub = linear_regressor_itub.fit(X, Y_itub)\n",
        "Y_pred_itub = linear_regressor_itub.predict(X)"
      ],
      "metadata": {
        "id": "NLJ9knKeZAaW"
      },
      "execution_count": 16,
      "outputs": []
    },
    {
      "cell_type": "code",
      "source": [
        "plt.figure(figsize=(10,5))\n",
        "plt.scatter(X, Y_itub, s=5, color = 'DarkSlateGrey')\n",
        "plt.plot( X, Y_pred_itub, color='DarkBlue')\n",
        "plt.title(\"Linear Regression\")\n",
        "plt.xlabel(\"IBOV\")\n",
        "plt.ylabel(\"ITUB4\")\n",
        "plt.show()"
      ],
      "metadata": {
        "colab": {
          "base_uri": "https://localhost:8080/",
          "height": 350
        },
        "id": "g8-PUC8aZNeB",
        "outputId": "990566c9-f00a-47fb-b3e9-47418a06abf9"
      },
      "execution_count": 17,
      "outputs": [
        {
          "output_type": "display_data",
          "data": {
            "text/plain": [
              "<Figure size 720x360 with 1 Axes>"
            ],
            "image/png": "[encoded data removed]"
          },
          "metadata": {
            "needs_background": "light"
          }
        }
      ]
    },
    {
      "cell_type": "code",
      "source": [
        "beta_elet = reg_elet.coef_[0][0]\n",
        "print(f'Beta ELET3:{beta_elet}')"
      ],
      "metadata": {
        "colab": {
          "base_uri": "https://localhost:8080/"
        },
        "id": "w1wdZzsQDfrP",
        "outputId": "8780b836-1b53-47ab-f7a2-c5413eac7d5c"
      },
      "execution_count": 18,
      "outputs": [
        {
          "output_type": "stream",
          "name": "stdout",
          "text": [
            "Beta ELET3:1.3446676717767083\n"
          ]
        }
      ]
    },
    {
      "cell_type": "code",
      "source": [
        "beta_itub = reg_itub.coef_[0][0]\n",
        "print(f'Beta ITUB4:{beta_itub}')"
      ],
      "metadata": {
        "id": "4blzqkz8vRTn",
        "colab": {
          "base_uri": "https://localhost:8080/"
        },
        "outputId": "262373cc-a279-4dfb-a5c9-1d0f42eb1b48"
      },
      "execution_count": 19,
      "outputs": [
        {
          "output_type": "stream",
          "name": "stdout",
          "text": [
            "Beta ITUB4:0.9722183526768282\n"
          ]
        }
      ]
    },
    {
      "cell_type": "code",
      "source": [
        "dfbeta = pd.Series({'Beta ELET3': [beta_elet], 'Beta ITUB4': [beta_itub]})\n",
        "dfbeta"
      ],
      "metadata": {
        "colab": {
          "base_uri": "https://localhost:8080/"
        },
        "id": "ETFo1b0lZfhA",
        "outputId": "d117b930-1aa7-479b-a2e0-a12f907ae49e"
      },
      "execution_count": 20,
      "outputs": [
        {
          "output_type": "execute_result",
          "data": {
            "text/plain": [
              "Beta ELET3    [1.3446676717767083]\n",
              "Beta ITUB4    [0.9722183526768282]\n",
              "dtype: object"
            ]
          },
          "metadata": {},
          "execution_count": 20
        }
      ]
    },
    {
      "cell_type": "markdown",
      "source": [
        "####In conclusion:\n",
        "* We can see that for the last 4 years when the Benchmark moved 1% up or down, ELET3 stock was moving 1.3% meaning that it can be a more risky investment than the benchmark but also can bring more returns.\n",
        "* In in comparison the ITUB4 stock was moving a a little less than the benchmark.\n",
        "* Now that we have this information about the beta index let's calculate de Value at Risk for a portfolio that would have only this 2 stocks."
      ],
      "metadata": {
        "id": "Gy_lpGnXire9"
      }
    },
    {
      "cell_type": "markdown",
      "source": [
        "#VaR (Value at Risk)"
      ],
      "metadata": {
        "id": "zDZjSCcTc5vb"
      }
    },
    {
      "cell_type": "markdown",
      "source": [
        "* VaR will measure the worst expected loss over a given time horizon under a normal market condition with a given level of confidence.\n",
        "* The VaR will not calculate the worst expected loss for a not normal \n",
        "condition. For that a strees test can do better at calculating the expected loss under a economic crisis or market crash,events out of curve popularly called Black Swans."
      ],
      "metadata": {
        "id": "f-BzoS_adcou"
      }
    },
    {
      "cell_type": "markdown",
      "source": [
        "![var.png](data:image/png;base64,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)"
      ],
      "metadata": {
        "id": "etkZqJ21g_4t"
      }
    },
    {
      "cell_type": "markdown",
      "source": [
        "We will calculate the Var for the same stocks we calculate the Beta"
      ],
      "metadata": {
        "id": "RBW-rt6Afk-0"
      }
    },
    {
      "cell_type": "code",
      "source": [
        "#Imports\n",
        "import matplotlib.mlab as mlab\n",
        "from scipy.stats import norm\n",
        "from tabulate import tabulate"
      ],
      "metadata": {
        "id": "TI6V1x5XdBdZ"
      },
      "execution_count": 21,
      "outputs": []
    },
    {
      "cell_type": "code",
      "source": [
        "#Visualizing the data\n",
        "df.head()"
      ],
      "metadata": {
        "colab": {
          "base_uri": "https://localhost:8080/",
          "height": 238
        },
        "id": "Ihuv1IzgfZA0",
        "outputId": "6ad3aeda-4787-4055-f252-f82fa4355d39"
      },
      "execution_count": 22,
      "outputs": [
        {
          "output_type": "execute_result",
          "data": {
            "text/plain": [
              "             ELET3.SA   ITUB4.SA    ^BVSP    %ELET3    %ITUB4     %IBOV\n",
              "Date                                                                   \n",
              "2018-01-03  14.765722  24.390001  77995.0 -0.012773  0.006837  0.001335\n",
              "2018-01-04  14.670203  24.897888  78647.0 -0.006469  0.020824  0.008360\n",
              "2018-01-05  14.534884  24.969660  79071.0 -0.009224  0.002883  0.005391\n",
              "2018-01-08  14.630403  24.886845  79379.0  0.006572 -0.003317  0.003895\n",
              "2018-01-09  14.049325  24.616339  78864.0 -0.039717 -0.010869 -0.006488"
            ],
            "text/html": [
              "\n",
              "  <div id=\"df-cb0d1c0e-d6d3-4e3f-945a-a322f0810494\">\n",
              "    <div class=\"colab-df-container\">\n",
              "      <div>\n",
              "<style scoped>\n",
              "    .dataframe tbody tr th:only-of-type {\n",
              "        vertical-align: middle;\n",
              "    }\n",
              "\n",
              "    .dataframe tbody tr th {\n",
              "        vertical-align: top;\n",
              "    }\n",
              "\n",
              "    .dataframe thead th {\n",
              "        text-align: right;\n",
              "    }\n",
              "</style>\n",
              "<table border=\"1\" class=\"dataframe\">\n",
              "  <thead>\n",
              "    <tr style=\"text-align: right;\">\n",
              "      <th></th>\n",
              "      <th>ELET3.SA</th>\n",
              "      <th>ITUB4.SA</th>\n",
              "      <th>^BVSP</th>\n",
              "      <th>%ELET3</th>\n",
              "      <th>%ITUB4</th>\n",
              "      <th>%IBOV</th>\n",
              "    </tr>\n",
              "    <tr>\n",
              "      <th>Date</th>\n",
              "      <th></th>\n",
              "      <th></th>\n",
              "      <th></th>\n",
              "      <th></th>\n",
              "      <th></th>\n",
              "      <th></th>\n",
              "    </tr>\n",
              "  </thead>\n",
              "  <tbody>\n",
              "    <tr>\n",
              "      <th>2018-01-03</th>\n",
              "      <td>14.765722</td>\n",
              "      <td>24.390001</td>\n",
              "      <td>77995.0</td>\n",
              "      <td>-0.012773</td>\n",
              "      <td>0.006837</td>\n",
              "      <td>0.001335</td>\n",
              "    </tr>\n",
              "    <tr>\n",
              "      <th>2018-01-04</th>\n",
              "      <td>14.670203</td>\n",
              "      <td>24.897888</td>\n",
              "      <td>78647.0</td>\n",
              "      <td>-0.006469</td>\n",
              "      <td>0.020824</td>\n",
              "      <td>0.008360</td>\n",
              "    </tr>\n",
              "    <tr>\n",
              "      <th>2018-01-05</th>\n",
              "      <td>14.534884</td>\n",
              "      <td>24.969660</td>\n",
              "      <td>79071.0</td>\n",
              "      <td>-0.009224</td>\n",
              "      <td>0.002883</td>\n",
              "      <td>0.005391</td>\n",
              "    </tr>\n",
              "    <tr>\n",
              "      <th>2018-01-08</th>\n",
              "      <td>14.630403</td>\n",
              "      <td>24.886845</td>\n",
              "      <td>79379.0</td>\n",
              "      <td>0.006572</td>\n",
              "      <td>-0.003317</td>\n",
              "      <td>0.003895</td>\n",
              "    </tr>\n",
              "    <tr>\n",
              "      <th>2018-01-09</th>\n",
              "      <td>14.049325</td>\n",
              "      <td>24.616339</td>\n",
              "      <td>78864.0</td>\n",
              "      <td>-0.039717</td>\n",
              "      <td>-0.010869</td>\n",
              "      <td>-0.006488</td>\n",
              "    </tr>\n",
              "  </tbody>\n",
              "</table>\n",
              "</div>\n",
              "      <button class=\"colab-df-convert\" onclick=\"convertToInteractive('df-cb0d1c0e-d6d3-4e3f-945a-a322f0810494')\"\n",
              "              title=\"Convert this dataframe to an interactive table.\"\n",
              "              style=\"display:none;\">\n",
              "        \n",
              "  <svg xmlns=\"http://www.w3.org/2000/svg\" height=\"24px\"viewBox=\"0 0 24 24\"\n",
              "       width=\"24px\">\n",
              "    <path d=\"M0 0h24v24H0V0z\" fill=\"none\"/>\n",
              "    <path d=\"M18.56 5.44l.94 2.06.94-2.06 2.06-.94-2.06-.94-.94-2.06-.94 2.06-2.06.94zm-11 1L8.5 8.5l.94-2.06 2.06-.94-2.06-.94L8.5 2.5l-.94 2.06-2.06.94zm10 10l.94 2.06.94-2.06 2.06-.94-2.06-.94-.94-2.06-.94 2.06-2.06.94z\"/><path d=\"M17.41 7.96l-1.37-1.37c-.4-.4-.92-.59-1.43-.59-.52 0-1.04.2-1.43.59L10.3 9.45l-7.72 7.72c-.78.78-.78 2.05 0 2.83L4 21.41c.39.39.9.59 1.41.59.51 0 1.02-.2 1.41-.59l7.78-7.78 2.81-2.81c.8-.78.8-2.07 0-2.86zM5.41 20L4 18.59l7.72-7.72 1.47 1.35L5.41 20z\"/>\n",
              "  </svg>\n",
              "      </button>\n",
              "      \n",
              "  <style>\n",
              "    .colab-df-container {\n",
              "      display:flex;\n",
              "      flex-wrap:wrap;\n",
              "      gap: 12px;\n",
              "    }\n",
              "\n",
              "    .colab-df-convert {\n",
              "      background-color: #E8F0FE;\n",
              "      border: none;\n",
              "      border-radius: 50%;\n",
              "      cursor: pointer;\n",
              "      display: none;\n",
              "      fill: #1967D2;\n",
              "      height: 32px;\n",
              "      padding: 0 0 0 0;\n",
              "      width: 32px;\n",
              "    }\n",
              "\n",
              "    .colab-df-convert:hover {\n",
              "      background-color: #E2EBFA;\n",
              "      box-shadow: 0px 1px 2px rgba(60, 64, 67, 0.3), 0px 1px 3px 1px rgba(60, 64, 67, 0.15);\n",
              "      fill: #174EA6;\n",
              "    }\n",
              "\n",
              "    [theme=dark] .colab-df-convert {\n",
              "      background-color: #3B4455;\n",
              "      fill: #D2E3FC;\n",
              "    }\n",
              "\n",
              "    [theme=dark] .colab-df-convert:hover {\n",
              "      background-color: #434B5C;\n",
              "      box-shadow: 0px 1px 3px 1px rgba(0, 0, 0, 0.15);\n",
              "      filter: drop-shadow(0px 1px 2px rgba(0, 0, 0, 0.3));\n",
              "      fill: #FFFFFF;\n",
              "    }\n",
              "  </style>\n",
              "\n",
              "      <script>\n",
              "        const buttonEl =\n",
              "          document.querySelector('#df-cb0d1c0e-d6d3-4e3f-945a-a322f0810494 button.colab-df-convert');\n",
              "        buttonEl.style.display =\n",
              "          google.colab.kernel.accessAllowed ? 'block' : 'none';\n",
              "\n",
              "        async function convertToInteractive(key) {\n",
              "          const element = document.querySelector('#df-cb0d1c0e-d6d3-4e3f-945a-a322f0810494');\n",
              "          const dataTable =\n",
              "            await google.colab.kernel.invokeFunction('convertToInteractive',\n",
              "                                                     [key], {});\n",
              "          if (!dataTable) return;\n",
              "\n",
              "          const docLinkHtml = 'Like what you see? Visit the ' +\n",
              "            '<a target=\"_blank\" href=https://colab.research.google.com/notebooks/data_table.ipynb>data table notebook</a>'\n",
              "            + ' to learn more about interactive tables.';\n",
              "          element.innerHTML = '';\n",
              "          dataTable['output_type'] = 'display_data';\n",
              "          await google.colab.output.renderOutput(dataTable, element);\n",
              "          const docLink = document.createElement('div');\n",
              "          docLink.innerHTML = docLinkHtml;\n",
              "          element.appendChild(docLink);\n",
              "        }\n",
              "      </script>\n",
              "    </div>\n",
              "  </div>\n",
              "  "
            ]
          },
          "metadata": {},
          "execution_count": 22
        }
      ]
    },
    {
      "cell_type": "code",
      "source": [
        "#Copying only the data we will use to other dataframe\n",
        "df1 = df[:]\n",
        "df1 = df1.loc[:,['ELET3.SA','ITUB4.SA']]"
      ],
      "metadata": {
        "id": "k0LdDPZvlcqB"
      },
      "execution_count": 23,
      "outputs": []
    },
    {
      "cell_type": "markdown",
      "source": [
        "Usually as in the previous analysis of the beta we use the pct_change function to calculate the returns but for this analysis we will use the the log variation."
      ],
      "metadata": {
        "id": "rDvbl3jQu6xp"
      }
    },
    {
      "cell_type": "code",
      "source": [
        "returns = np.log(df1 / df1.shift(1)).dropna()\n",
        "returns"
      ],
      "metadata": {
        "colab": {
          "base_uri": "https://localhost:8080/",
          "height": 455
        },
        "id": "DGWfwstxqMTr",
        "outputId": "fa983b0c-fe05-4dce-dc65-85e32be15919"
      },
      "execution_count": 24,
      "outputs": [
        {
          "output_type": "execute_result",
          "data": {
            "text/plain": [
              "            ELET3.SA  ITUB4.SA\n",
              "Date                          \n",
              "2018-01-04 -0.006490  0.020610\n",
              "2018-01-05 -0.009267  0.002878\n",
              "2018-01-08  0.006550 -0.003322\n",
              "2018-01-09 -0.040527 -0.010929\n",
              "2018-01-10 -0.041058 -0.003369\n",
              "...              ...       ...\n",
              "2022-07-25  0.004917  0.014512\n",
              "2022-07-26 -0.004469 -0.005524\n",
              "2022-07-27  0.015997  0.003403\n",
              "2022-07-28  0.001762  0.006349\n",
              "2022-07-29  0.007890 -0.003381\n",
              "\n",
              "[1131 rows x 2 columns]"
            ],
            "text/html": [
              "\n",
              "  <div id=\"df-67354c4b-b34a-4a37-bf70-9b9665343e1e\">\n",
              "    <div class=\"colab-df-container\">\n",
              "      <div>\n",
              "<style scoped>\n",
              "    .dataframe tbody tr th:only-of-type {\n",
              "        vertical-align: middle;\n",
              "    }\n",
              "\n",
              "    .dataframe tbody tr th {\n",
              "        vertical-align: top;\n",
              "    }\n",
              "\n",
              "    .dataframe thead th {\n",
              "        text-align: right;\n",
              "    }\n",
              "</style>\n",
              "<table border=\"1\" class=\"dataframe\">\n",
              "  <thead>\n",
              "    <tr style=\"text-align: right;\">\n",
              "      <th></th>\n",
              "      <th>ELET3.SA</th>\n",
              "      <th>ITUB4.SA</th>\n",
              "    </tr>\n",
              "    <tr>\n",
              "      <th>Date</th>\n",
              "      <th></th>\n",
              "      <th></th>\n",
              "    </tr>\n",
              "  </thead>\n",
              "  <tbody>\n",
              "    <tr>\n",
              "      <th>2018-01-04</th>\n",
              "      <td>-0.006490</td>\n",
              "      <td>0.020610</td>\n",
              "    </tr>\n",
              "    <tr>\n",
              "      <th>2018-01-05</th>\n",
              "      <td>-0.009267</td>\n",
              "      <td>0.002878</td>\n",
              "    </tr>\n",
              "    <tr>\n",
              "      <th>2018-01-08</th>\n",
              "      <td>0.006550</td>\n",
              "      <td>-0.003322</td>\n",
              "    </tr>\n",
              "    <tr>\n",
              "      <th>2018-01-09</th>\n",
              "      <td>-0.040527</td>\n",
              "      <td>-0.010929</td>\n",
              "    </tr>\n",
              "    <tr>\n",
              "      <th>2018-01-10</th>\n",
              "      <td>-0.041058</td>\n",
              "      <td>-0.003369</td>\n",
              "    </tr>\n",
              "    <tr>\n",
              "      <th>...</th>\n",
              "      <td>...</td>\n",
              "      <td>...</td>\n",
              "    </tr>\n",
              "    <tr>\n",
              "      <th>2022-07-25</th>\n",
              "      <td>0.004917</td>\n",
              "      <td>0.014512</td>\n",
              "    </tr>\n",
              "    <tr>\n",
              "      <th>2022-07-26</th>\n",
              "      <td>-0.004469</td>\n",
              "      <td>-0.005524</td>\n",
              "    </tr>\n",
              "    <tr>\n",
              "      <th>2022-07-27</th>\n",
              "      <td>0.015997</td>\n",
              "      <td>0.003403</td>\n",
              "    </tr>\n",
              "    <tr>\n",
              "      <th>2022-07-28</th>\n",
              "      <td>0.001762</td>\n",
              "      <td>0.006349</td>\n",
              "    </tr>\n",
              "    <tr>\n",
              "      <th>2022-07-29</th>\n",
              "      <td>0.007890</td>\n",
              "      <td>-0.003381</td>\n",
              "    </tr>\n",
              "  </tbody>\n",
              "</table>\n",
              "<p>1131 rows × 2 columns</p>\n",
              "</div>\n",
              "      <button class=\"colab-df-convert\" onclick=\"convertToInteractive('df-67354c4b-b34a-4a37-bf70-9b9665343e1e')\"\n",
              "              title=\"Convert this dataframe to an interactive table.\"\n",
              "              style=\"display:none;\">\n",
              "        \n",
              "  <svg xmlns=\"http://www.w3.org/2000/svg\" height=\"24px\"viewBox=\"0 0 24 24\"\n",
              "       width=\"24px\">\n",
              "    <path d=\"M0 0h24v24H0V0z\" fill=\"none\"/>\n",
              "    <path d=\"M18.56 5.44l.94 2.06.94-2.06 2.06-.94-2.06-.94-.94-2.06-.94 2.06-2.06.94zm-11 1L8.5 8.5l.94-2.06 2.06-.94-2.06-.94L8.5 2.5l-.94 2.06-2.06.94zm10 10l.94 2.06.94-2.06 2.06-.94-2.06-.94-.94-2.06-.94 2.06-2.06.94z\"/><path d=\"M17.41 7.96l-1.37-1.37c-.4-.4-.92-.59-1.43-.59-.52 0-1.04.2-1.43.59L10.3 9.45l-7.72 7.72c-.78.78-.78 2.05 0 2.83L4 21.41c.39.39.9.59 1.41.59.51 0 1.02-.2 1.41-.59l7.78-7.78 2.81-2.81c.8-.78.8-2.07 0-2.86zM5.41 20L4 18.59l7.72-7.72 1.47 1.35L5.41 20z\"/>\n",
              "  </svg>\n",
              "      </button>\n",
              "      \n",
              "  <style>\n",
              "    .colab-df-container {\n",
              "      display:flex;\n",
              "      flex-wrap:wrap;\n",
              "      gap: 12px;\n",
              "    }\n",
              "\n",
              "    .colab-df-convert {\n",
              "      background-color: #E8F0FE;\n",
              "      border: none;\n",
              "      border-radius: 50%;\n",
              "      cursor: pointer;\n",
              "      display: none;\n",
              "      fill: #1967D2;\n",
              "      height: 32px;\n",
              "      padding: 0 0 0 0;\n",
              "      width: 32px;\n",
              "    }\n",
              "\n",
              "    .colab-df-convert:hover {\n",
              "      background-color: #E2EBFA;\n",
              "      box-shadow: 0px 1px 2px rgba(60, 64, 67, 0.3), 0px 1px 3px 1px rgba(60, 64, 67, 0.15);\n",
              "      fill: #174EA6;\n",
              "    }\n",
              "\n",
              "    [theme=dark] .colab-df-convert {\n",
              "      background-color: #3B4455;\n",
              "      fill: #D2E3FC;\n",
              "    }\n",
              "\n",
              "    [theme=dark] .colab-df-convert:hover {\n",
              "      background-color: #434B5C;\n",
              "      box-shadow: 0px 1px 3px 1px rgba(0, 0, 0, 0.15);\n",
              "      filter: drop-shadow(0px 1px 2px rgba(0, 0, 0, 0.3));\n",
              "      fill: #FFFFFF;\n",
              "    }\n",
              "  </style>\n",
              "\n",
              "      <script>\n",
              "        const buttonEl =\n",
              "          document.querySelector('#df-67354c4b-b34a-4a37-bf70-9b9665343e1e button.colab-df-convert');\n",
              "        buttonEl.style.display =\n",
              "          google.colab.kernel.accessAllowed ? 'block' : 'none';\n",
              "\n",
              "        async function convertToInteractive(key) {\n",
              "          const element = document.querySelector('#df-67354c4b-b34a-4a37-bf70-9b9665343e1e');\n",
              "          const dataTable =\n",
              "            await google.colab.kernel.invokeFunction('convertToInteractive',\n",
              "                                                     [key], {});\n",
              "          if (!dataTable) return;\n",
              "\n",
              "          const docLinkHtml = 'Like what you see? Visit the ' +\n",
              "            '<a target=\"_blank\" href=https://colab.research.google.com/notebooks/data_table.ipynb>data table notebook</a>'\n",
              "            + ' to learn more about interactive tables.';\n",
              "          element.innerHTML = '';\n",
              "          dataTable['output_type'] = 'display_data';\n",
              "          await google.colab.output.renderOutput(dataTable, element);\n",
              "          const docLink = document.createElement('div');\n",
              "          docLink.innerHTML = docLinkHtml;\n",
              "          element.appendChild(docLink);\n",
              "        }\n",
              "      </script>\n",
              "    </div>\n",
              "  </div>\n",
              "  "
            ]
          },
          "metadata": {},
          "execution_count": 24
        }
      ]
    },
    {
      "cell_type": "markdown",
      "source": [
        "For this portfolio we will assume that we have 60% allocated in ELET3 and 40% in ITUB4, a little agressive since the beta we calculate for ELET3 is 1.34 and for ITUB is 0.97"
      ],
      "metadata": {
        "id": "cIfbBlBzrPK3"
      }
    },
    {
      "cell_type": "code",
      "source": [
        "#The weights for each stock\n",
        "weights = np.array([.6, .4])\n",
        "weights"
      ],
      "metadata": {
        "colab": {
          "base_uri": "https://localhost:8080/"
        },
        "id": "3VRpP2YDq9xA",
        "outputId": "497812c3-bbaf-417e-c5b6-e6dee0885879"
      },
      "execution_count": 25,
      "outputs": [
        {
          "output_type": "execute_result",
          "data": {
            "text/plain": [
              "array([0.6, 0.4])"
            ]
          },
          "metadata": {},
          "execution_count": 25
        }
      ]
    },
    {
      "cell_type": "code",
      "source": [
        "#To calculate the weighted return of our portfolio we use the dot function\n",
        "returns['Portfolio'] = returns.dot(weights)\n",
        "returns"
      ],
      "metadata": {
        "colab": {
          "base_uri": "https://localhost:8080/",
          "height": 455
        },
        "id": "UCf_LVLvq91d",
        "outputId": "4009187a-3544-48e4-ce85-1e41a2255d49"
      },
      "execution_count": 26,
      "outputs": [
        {
          "output_type": "execute_result",
          "data": {
            "text/plain": [
              "            ELET3.SA  ITUB4.SA  Portfolio\n",
              "Date                                     \n",
              "2018-01-04 -0.006490  0.020610   0.004350\n",
              "2018-01-05 -0.009267  0.002878  -0.004409\n",
              "2018-01-08  0.006550 -0.003322   0.002601\n",
              "2018-01-09 -0.040527 -0.010929  -0.028688\n",
              "2018-01-10 -0.041058 -0.003369  -0.025983\n",
              "...              ...       ...        ...\n",
              "2022-07-25  0.004917  0.014512   0.008755\n",
              "2022-07-26 -0.004469 -0.005524  -0.004891\n",
              "2022-07-27  0.015997  0.003403   0.010959\n",
              "2022-07-28  0.001762  0.006349   0.003597\n",
              "2022-07-29  0.007890 -0.003381   0.003381\n",
              "\n",
              "[1131 rows x 3 columns]"
            ],
            "text/html": [
              "\n",
              "  <div id=\"df-1d0b1590-7adc-4468-a613-57e65cc10ef6\">\n",
              "    <div class=\"colab-df-container\">\n",
              "      <div>\n",
              "<style scoped>\n",
              "    .dataframe tbody tr th:only-of-type {\n",
              "        vertical-align: middle;\n",
              "    }\n",
              "\n",
              "    .dataframe tbody tr th {\n",
              "        vertical-align: top;\n",
              "    }\n",
              "\n",
              "    .dataframe thead th {\n",
              "        text-align: right;\n",
              "    }\n",
              "</style>\n",
              "<table border=\"1\" class=\"dataframe\">\n",
              "  <thead>\n",
              "    <tr style=\"text-align: right;\">\n",
              "      <th></th>\n",
              "      <th>ELET3.SA</th>\n",
              "      <th>ITUB4.SA</th>\n",
              "      <th>Portfolio</th>\n",
              "    </tr>\n",
              "    <tr>\n",
              "      <th>Date</th>\n",
              "      <th></th>\n",
              "      <th></th>\n",
              "      <th></th>\n",
              "    </tr>\n",
              "  </thead>\n",
              "  <tbody>\n",
              "    <tr>\n",
              "      <th>2018-01-04</th>\n",
              "      <td>-0.006490</td>\n",
              "      <td>0.020610</td>\n",
              "      <td>0.004350</td>\n",
              "    </tr>\n",
              "    <tr>\n",
              "      <th>2018-01-05</th>\n",
              "      <td>-0.009267</td>\n",
              "      <td>0.002878</td>\n",
              "      <td>-0.004409</td>\n",
              "    </tr>\n",
              "    <tr>\n",
              "      <th>2018-01-08</th>\n",
              "      <td>0.006550</td>\n",
              "      <td>-0.003322</td>\n",
              "      <td>0.002601</td>\n",
              "    </tr>\n",
              "    <tr>\n",
              "      <th>2018-01-09</th>\n",
              "      <td>-0.040527</td>\n",
              "      <td>-0.010929</td>\n",
              "      <td>-0.028688</td>\n",
              "    </tr>\n",
              "    <tr>\n",
              "      <th>2018-01-10</th>\n",
              "      <td>-0.041058</td>\n",
              "      <td>-0.003369</td>\n",
              "      <td>-0.025983</td>\n",
              "    </tr>\n",
              "    <tr>\n",
              "      <th>...</th>\n",
              "      <td>...</td>\n",
              "      <td>...</td>\n",
              "      <td>...</td>\n",
              "    </tr>\n",
              "    <tr>\n",
              "      <th>2022-07-25</th>\n",
              "      <td>0.004917</td>\n",
              "      <td>0.014512</td>\n",
              "      <td>0.008755</td>\n",
              "    </tr>\n",
              "    <tr>\n",
              "      <th>2022-07-26</th>\n",
              "      <td>-0.004469</td>\n",
              "      <td>-0.005524</td>\n",
              "      <td>-0.004891</td>\n",
              "    </tr>\n",
              "    <tr>\n",
              "      <th>2022-07-27</th>\n",
              "      <td>0.015997</td>\n",
              "      <td>0.003403</td>\n",
              "      <td>0.010959</td>\n",
              "    </tr>\n",
              "    <tr>\n",
              "      <th>2022-07-28</th>\n",
              "      <td>0.001762</td>\n",
              "      <td>0.006349</td>\n",
              "      <td>0.003597</td>\n",
              "    </tr>\n",
              "    <tr>\n",
              "      <th>2022-07-29</th>\n",
              "      <td>0.007890</td>\n",
              "      <td>-0.003381</td>\n",
              "      <td>0.003381</td>\n",
              "    </tr>\n",
              "  </tbody>\n",
              "</table>\n",
              "<p>1131 rows × 3 columns</p>\n",
              "</div>\n",
              "      <button class=\"colab-df-convert\" onclick=\"convertToInteractive('df-1d0b1590-7adc-4468-a613-57e65cc10ef6')\"\n",
              "              title=\"Convert this dataframe to an interactive table.\"\n",
              "              style=\"display:none;\">\n",
              "        \n",
              "  <svg xmlns=\"http://www.w3.org/2000/svg\" height=\"24px\"viewBox=\"0 0 24 24\"\n",
              "       width=\"24px\">\n",
              "    <path d=\"M0 0h24v24H0V0z\" fill=\"none\"/>\n",
              "    <path d=\"M18.56 5.44l.94 2.06.94-2.06 2.06-.94-2.06-.94-.94-2.06-.94 2.06-2.06.94zm-11 1L8.5 8.5l.94-2.06 2.06-.94-2.06-.94L8.5 2.5l-.94 2.06-2.06.94zm10 10l.94 2.06.94-2.06 2.06-.94-2.06-.94-.94-2.06-.94 2.06-2.06.94z\"/><path d=\"M17.41 7.96l-1.37-1.37c-.4-.4-.92-.59-1.43-.59-.52 0-1.04.2-1.43.59L10.3 9.45l-7.72 7.72c-.78.78-.78 2.05 0 2.83L4 21.41c.39.39.9.59 1.41.59.51 0 1.02-.2 1.41-.59l7.78-7.78 2.81-2.81c.8-.78.8-2.07 0-2.86zM5.41 20L4 18.59l7.72-7.72 1.47 1.35L5.41 20z\"/>\n",
              "  </svg>\n",
              "      </button>\n",
              "      \n",
              "  <style>\n",
              "    .colab-df-container {\n",
              "      display:flex;\n",
              "      flex-wrap:wrap;\n",
              "      gap: 12px;\n",
              "    }\n",
              "\n",
              "    .colab-df-convert {\n",
              "      background-color: #E8F0FE;\n",
              "      border: none;\n",
              "      border-radius: 50%;\n",
              "      cursor: pointer;\n",
              "      display: none;\n",
              "      fill: #1967D2;\n",
              "      height: 32px;\n",
              "      padding: 0 0 0 0;\n",
              "      width: 32px;\n",
              "    }\n",
              "\n",
              "    .colab-df-convert:hover {\n",
              "      background-color: #E2EBFA;\n",
              "      box-shadow: 0px 1px 2px rgba(60, 64, 67, 0.3), 0px 1px 3px 1px rgba(60, 64, 67, 0.15);\n",
              "      fill: #174EA6;\n",
              "    }\n",
              "\n",
              "    [theme=dark] .colab-df-convert {\n",
              "      background-color: #3B4455;\n",
              "      fill: #D2E3FC;\n",
              "    }\n",
              "\n",
              "    [theme=dark] .colab-df-convert:hover {\n",
              "      background-color: #434B5C;\n",
              "      box-shadow: 0px 1px 3px 1px rgba(0, 0, 0, 0.15);\n",
              "      filter: drop-shadow(0px 1px 2px rgba(0, 0, 0, 0.3));\n",
              "      fill: #FFFFFF;\n",
              "    }\n",
              "  </style>\n",
              "\n",
              "      <script>\n",
              "        const buttonEl =\n",
              "          document.querySelector('#df-1d0b1590-7adc-4468-a613-57e65cc10ef6 button.colab-df-convert');\n",
              "        buttonEl.style.display =\n",
              "          google.colab.kernel.accessAllowed ? 'block' : 'none';\n",
              "\n",
              "        async function convertToInteractive(key) {\n",
              "          const element = document.querySelector('#df-1d0b1590-7adc-4468-a613-57e65cc10ef6');\n",
              "          const dataTable =\n",
              "            await google.colab.kernel.invokeFunction('convertToInteractive',\n",
              "                                                     [key], {});\n",
              "          if (!dataTable) return;\n",
              "\n",
              "          const docLinkHtml = 'Like what you see? Visit the ' +\n",
              "            '<a target=\"_blank\" href=https://colab.research.google.com/notebooks/data_table.ipynb>data table notebook</a>'\n",
              "            + ' to learn more about interactive tables.';\n",
              "          element.innerHTML = '';\n",
              "          dataTable['output_type'] = 'display_data';\n",
              "          await google.colab.output.renderOutput(dataTable, element);\n",
              "          const docLink = document.createElement('div');\n",
              "          docLink.innerHTML = docLinkHtml;\n",
              "          element.appendChild(docLink);\n",
              "        }\n",
              "      </script>\n",
              "    </div>\n",
              "  </div>\n",
              "  "
            ]
          },
          "metadata": {},
          "execution_count": 26
        }
      ]
    },
    {
      "cell_type": "code",
      "source": [
        "#Now we need to calculate the mean and standard deviation of the returns of our portfolio\n",
        "returns_mean = np.mean(returns['Portfolio'])\n",
        "returns_std = np.std(returns['Portfolio'])\n",
        "print(f'Portfolio daily returns mean = {returns_mean:.2%}')\n",
        "print(f'Portfolio daily returns std = {returns_std:.2%}')"
      ],
      "metadata": {
        "colab": {
          "base_uri": "https://localhost:8080/"
        },
        "id": "95SvJ23Fq95_",
        "outputId": "d0bc4345-ef38-45c8-e80e-caf0ab924d7b"
      },
      "execution_count": 27,
      "outputs": [
        {
          "output_type": "stream",
          "name": "stdout",
          "text": [
            "Portfolio daily returns mean = 0.06%\n",
            "Portfolio daily returns std = 2.69%\n"
          ]
        }
      ]
    },
    {
      "cell_type": "code",
      "source": [
        "#Getting the ppf(percent point function) z*score with 95% of critic value, mean 0 and standard deviation 1\n",
        "norm.ppf(0.95, 0, 1)"
      ],
      "metadata": {
        "colab": {
          "base_uri": "https://localhost:8080/"
        },
        "id": "z9Q0ZhNsfvIE",
        "outputId": "b17903f8-22ed-489c-b23d-640ec2ad6432"
      },
      "execution_count": 28,
      "outputs": [
        {
          "output_type": "execute_result",
          "data": {
            "text/plain": [
              "1.6448536269514722"
            ]
          },
          "metadata": {},
          "execution_count": 28
        }
      ]
    },
    {
      "cell_type": "code",
      "source": [
        "#With an 95% confidence level we have\n",
        "# if 0.05, we are using: 1 - alpha = 0.95 or 95% confidence level\n",
        "alpha = 0.05 \n",
        "\n",
        "var =  norm.ppf(alpha, returns_mean, returns_std)\n",
        "print(f'The daily VaR value is {var:.2%} for our potfolio.')\n"
      ],
      "metadata": {
        "colab": {
          "base_uri": "https://localhost:8080/"
        },
        "id": "4kiw1TBBtx5z",
        "outputId": "b7997576-4252-4400-c91b-9e880d7f32a2"
      },
      "execution_count": 29,
      "outputs": [
        {
          "output_type": "stream",
          "name": "stdout",
          "text": [
            "The daily VaR value is -4.36% for our potfolio.\n"
          ]
        }
      ]
    },
    {
      "cell_type": "markdown",
      "source": [
        "Thus if we have an invested capital of x in this portfolio we have:"
      ],
      "metadata": {
        "id": "1t-RLstryoUe"
      }
    },
    {
      "cell_type": "code",
      "source": [
        "capital = 10000\n",
        "max_losses = var*capital \n",
        "\n",
        "print(f'We have {1-alpha:.0%} confidence that out selected portfolio of R${capital:.0f} invested will not exceed losses greater than R${max_losses:.2f} daily.')"
      ],
      "metadata": {
        "colab": {
          "base_uri": "https://localhost:8080/"
        },
        "id": "N8_DQW2Btx-Z",
        "outputId": "dcefc9a5-bc8a-477c-9796-65691fab53a9"
      },
      "execution_count": 30,
      "outputs": [
        {
          "output_type": "stream",
          "name": "stdout",
          "text": [
            "We have 95% confidence that out selected portfolio of R$10000 invested will not exceed losses greater than R$-436.46 daily.\n"
          ]
        }
      ]
    },
    {
      "cell_type": "markdown",
      "source": [
        "#Comparing the portfolio return with a normal distribution"
      ],
      "metadata": {
        "id": "hw9v4nwZzIFY"
      }
    },
    {
      "cell_type": "markdown",
      "source": [
        "###Visualization"
      ],
      "metadata": {
        "id": "05M5Hs9wzocy"
      }
    },
    {
      "cell_type": "code",
      "source": [
        "# plot the histogram of the portfolio returns\n",
        "plt.figure(figsize=(10,5))\n",
        "returns['Portfolio'].hist(bins=30, density=True, histtype='stepfilled', alpha=0.4, color='teal')\n",
        "\n",
        "# plot a theoretical normal distribution based on portfolio returns statistics\n",
        "x = np.linspace((returns_mean - 4*returns_std), (returns_mean + 4*returns_std), 50)\n",
        "plt.plot(x, norm.pdf(x, returns_mean, returns_std), 'r--', lw=2)\n",
        "\n",
        "# add VaR value as a vertical line\n",
        "plt.axvline(x=var, color = 'Darkblue')\n",
        "\n",
        "# add text to plot\n",
        "plt.text(0.02, 15, 'normal distribution', fontsize=10, color='red')\n",
        "plt.text(-0.02, 5, 'portfolio returns', fontsize=10, color='darkgreen')\n",
        "plt.text(-0.042, 20, 'VaR', fontsize=11, color='Darkblue')\n",
        "\n",
        "# add label\n",
        "plt.ylabel('Frequency')\n",
        "\n",
        "plt.show()"
      ],
      "metadata": {
        "colab": {
          "base_uri": "https://localhost:8080/",
          "height": 320
        },
        "id": "vds2pJDWtyCq",
        "outputId": "949c9445-f976-417b-aa26-ae65d20c030b"
      },
      "execution_count": 31,
      "outputs": [
        {
          "output_type": "display_data",
          "data": {
            "text/plain": [
              "<Figure size 720x360 with 1 Axes>"
            ],
            "image/png": "[encoded data removed]"
          },
          "metadata": {
            "needs_background": "light"
          }
        }
      ]
    },
    {
      "cell_type": "markdown",
      "source": [
        "* As we can see our potfolio returns has a similar behavior with a normal function.\n",
        "* But is not perfect, as we can see sometimes the loss was greater than expected this happens because of the fat tail effect. An unexpected market behavior as in the 2020 COVID crash for example."
      ],
      "metadata": {
        "id": "e52S-zj90PPW"
      }
    }
  ]
}